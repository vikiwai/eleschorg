{
 "cells": [
  {
   "cell_type": "code",
   "execution_count": 1,
   "metadata": {
    "collapsed": true
   },
   "outputs": [],
   "source": [
    "import pandas as pd\n",
    "import json"
   ]
  },
  {
   "cell_type": "code",
   "execution_count": 2,
   "metadata": {},
   "outputs": [],
   "source": [
    "f = open('waiting_list.json','r')\n",
    "s = f.read()\n",
    "u = json.loads(s)\n",
    "train = pd.DataFrame(u)"
   ]
  },
  {
   "cell_type": "code",
   "execution_count": 3,
   "metadata": {},
   "outputs": [
    {
     "data": {
      "text/html": [
       "<div>\n",
       "<style>\n",
       "    .dataframe thead tr:only-child th {\n",
       "        text-align: right;\n",
       "    }\n",
       "\n",
       "    .dataframe thead th {\n",
       "        text-align: left;\n",
       "    }\n",
       "\n",
       "    .dataframe tbody tr th {\n",
       "        vertical-align: top;\n",
       "    }\n",
       "</style>\n",
       "<table border=\"1\" class=\"dataframe\">\n",
       "  <thead>\n",
       "    <tr style=\"text-align: right;\">\n",
       "      <th></th>\n",
       "      <th>class</th>\n",
       "      <th>invite</th>\n",
       "      <th>name</th>\n",
       "      <th>role</th>\n",
       "      <th>school</th>\n",
       "    </tr>\n",
       "  </thead>\n",
       "  <tbody>\n",
       "    <tr>\n",
       "      <th>0</th>\n",
       "      <td>5а</td>\n",
       "      <td>bf7jo06yi8</td>\n",
       "      <td>Леха</td>\n",
       "      <td>Ученик</td>\n",
       "      <td>30</td>\n",
       "    </tr>\n",
       "    <tr>\n",
       "      <th>1</th>\n",
       "      <td>5д</td>\n",
       "      <td>q6qv9kcqxs</td>\n",
       "      <td>Гуля</td>\n",
       "      <td>Ученик</td>\n",
       "      <td>30</td>\n",
       "    </tr>\n",
       "    <tr>\n",
       "      <th>2</th>\n",
       "      <td>3е</td>\n",
       "      <td>jfyi2b30v9</td>\n",
       "      <td>Уебок на Грише</td>\n",
       "      <td>Ученик</td>\n",
       "      <td>30</td>\n",
       "    </tr>\n",
       "    <tr>\n",
       "      <th>3</th>\n",
       "      <td>5ш</td>\n",
       "      <td>m5o9nxpjpo</td>\n",
       "      <td>Вича Буняева</td>\n",
       "      <td>Ученик</td>\n",
       "      <td>30</td>\n",
       "    </tr>\n",
       "    <tr>\n",
       "      <th>4</th>\n",
       "      <td>0ж</td>\n",
       "      <td>wsisztvil</td>\n",
       "      <td>Фрол Гандон</td>\n",
       "      <td>Ученик</td>\n",
       "      <td>30</td>\n",
       "    </tr>\n",
       "  </tbody>\n",
       "</table>\n",
       "</div>"
      ],
      "text/plain": [
       "  class      invite            name    role school\n",
       "0    5а  bf7jo06yi8            Леха  Ученик     30\n",
       "1    5д  q6qv9kcqxs            Гуля  Ученик     30\n",
       "2    3е  jfyi2b30v9  Уебок на Грише  Ученик     30\n",
       "3    5ш  m5o9nxpjpo    Вича Буняева  Ученик     30\n",
       "4    0ж   wsisztvil     Фрол Гандон  Ученик     30"
      ]
     },
     "execution_count": 3,
     "metadata": {},
     "output_type": "execute_result"
    }
   ],
   "source": [
    "train.head()"
   ]
  },
  {
   "cell_type": "code",
   "execution_count": 4,
   "metadata": {},
   "outputs": [
    {
     "data": {
      "text/html": [
       "<div>\n",
       "<style>\n",
       "    .dataframe thead tr:only-child th {\n",
       "        text-align: right;\n",
       "    }\n",
       "\n",
       "    .dataframe thead th {\n",
       "        text-align: left;\n",
       "    }\n",
       "\n",
       "    .dataframe tbody tr th {\n",
       "        vertical-align: top;\n",
       "    }\n",
       "</style>\n",
       "<table border=\"1\" class=\"dataframe\">\n",
       "  <thead>\n",
       "    <tr style=\"text-align: right;\">\n",
       "      <th></th>\n",
       "      <th>class</th>\n",
       "      <th>invite</th>\n",
       "      <th>name</th>\n",
       "      <th>role</th>\n",
       "      <th>school</th>\n",
       "    </tr>\n",
       "  </thead>\n",
       "  <tbody>\n",
       "    <tr>\n",
       "      <th>0</th>\n",
       "      <td>5а</td>\n",
       "      <td>bf7jo06yi8</td>\n",
       "      <td>Леха</td>\n",
       "      <td>Ученик</td>\n",
       "      <td>30</td>\n",
       "    </tr>\n",
       "    <tr>\n",
       "      <th>2</th>\n",
       "      <td>3е</td>\n",
       "      <td>jfyi2b30v9</td>\n",
       "      <td>Уебок на Грише</td>\n",
       "      <td>Ученик</td>\n",
       "      <td>30</td>\n",
       "    </tr>\n",
       "    <tr>\n",
       "      <th>3</th>\n",
       "      <td>5ш</td>\n",
       "      <td>m5o9nxpjpo</td>\n",
       "      <td>Вича Буняева</td>\n",
       "      <td>Ученик</td>\n",
       "      <td>30</td>\n",
       "    </tr>\n",
       "    <tr>\n",
       "      <th>4</th>\n",
       "      <td>0ж</td>\n",
       "      <td>wsisztvil</td>\n",
       "      <td>Фрол Гандон</td>\n",
       "      <td>Ученик</td>\n",
       "      <td>30</td>\n",
       "    </tr>\n",
       "    <tr>\n",
       "      <th>5</th>\n",
       "      <td>11</td>\n",
       "      <td>pfqqlfnwsy</td>\n",
       "      <td>Фрол Уебок</td>\n",
       "      <td>Учитель</td>\n",
       "      <td>30</td>\n",
       "    </tr>\n",
       "  </tbody>\n",
       "</table>\n",
       "</div>"
      ],
      "text/plain": [
       "  class      invite            name     role school\n",
       "0    5а  bf7jo06yi8            Леха   Ученик     30\n",
       "2    3е  jfyi2b30v9  Уебок на Грише   Ученик     30\n",
       "3    5ш  m5o9nxpjpo    Вича Буняева   Ученик     30\n",
       "4    0ж   wsisztvil     Фрол Гандон   Ученик     30\n",
       "5    11  pfqqlfnwsy      Фрол Уебок  Учитель     30"
      ]
     },
     "execution_count": 4,
     "metadata": {},
     "output_type": "execute_result"
    }
   ],
   "source": [
    "df = train[train['invite']!='q6qv9kcqxs']\n",
    "df.head()"
   ]
  },
  {
   "cell_type": "code",
   "execution_count": 19,
   "metadata": {},
   "outputs": [
    {
     "name": "stdout",
     "output_type": "stream",
     "text": [
      "[['5а', 'bf7jo06yi8', 'Леха', 'Ученик', '30'], ['5д', 'q6qv9kcqxs', 'Гуля', 'Ученик', '30'], ['3е', 'jfyi2b30v9', 'Уебок на Грише', 'Ученик', '30']]\n"
     ]
    }
   ],
   "source": [
    "d = df.to_dict('records')\n",
    "print(df.values.tolist())"
   ]
  },
  {
   "cell_type": "code",
   "execution_count": 20,
   "metadata": {},
   "outputs": [
    {
     "name": "stdout",
     "output_type": "stream",
     "text": [
      "[{'role': 'Ученик', 'school': '30', 'class': '5а', 'name': 'Леха', 'invite': 'bf7jo06yi8'}, {'role': 'Ученик', 'school': '30', 'class': '5д', 'name': 'Гуля', 'invite': 'q6qv9kcqxs'}, {'role': 'Ученик', 'school': '30', 'class': '3е', 'name': 'Уебок на Грише', 'invite': 'jfyi2b30v9'}]\n"
     ]
    }
   ],
   "source": [
    "print(d)"
   ]
  },
  {
   "cell_type": "code",
   "execution_count": null,
   "metadata": {
    "collapsed": true
   },
   "outputs": [],
   "source": []
  }
 ],
 "metadata": {
  "kernelspec": {
   "display_name": "Python 3",
   "language": "python",
   "name": "python3"
  },
  "language_info": {
   "codemirror_mode": {
    "name": "ipython",
    "version": 3
   },
   "file_extension": ".py",
   "mimetype": "text/x-python",
   "name": "python",
   "nbconvert_exporter": "python",
   "pygments_lexer": "ipython3",
   "version": "3.5.2"
  }
 },
 "nbformat": 4,
 "nbformat_minor": 2
}
