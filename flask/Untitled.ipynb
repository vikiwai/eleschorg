{
 "cells": [
  {
   "cell_type": "code",
   "execution_count": 9,
   "metadata": {
    "collapsed": true
   },
   "outputs": [],
   "source": [
    "class Person:\n",
    "    login = \"\"\n",
    "    password = \"\"\n",
    "    name = \"\""
   ]
  },
  {
   "cell_type": "code",
   "execution_count": 14,
   "metadata": {},
   "outputs": [],
   "source": [
    "def correct_reg():\n",
    "    login = u'qweqwe'\n",
    "    password = u'qweqwe'\n",
    "    name = u'qweqwe'\n",
    "    f = open('database.json','r')\n",
    "    s = f.read()\n",
    "    u = json.loads(s)\n",
    "    print(s)\n",
    "    person = Person()\n",
    "    person.name = name\n",
    "    person.login = login\n",
    "    person.password = password\n",
    "    u.append({\"login\":login,\"password\":password,\"name\":name})\n",
    "    s = json.dumps(u)\n",
    "    print(u)"
   ]
  },
  {
   "cell_type": "code",
   "execution_count": 15,
   "metadata": {},
   "outputs": [
    {
     "name": "stdout",
     "output_type": "stream",
     "text": [
      "[\n",
      "  {\"login\":\"boscatov\", \"password\":\"s17302005\", \"name\":\"РњР°РјРѕРЅС‚РѕРІ РђР»РµРєСЃР°РЅРґСЂ\"},\n",
      "  {\"login\":\"vicha\", \"password\":\"1234567\", \"name\":\"Р’РёРєС‚РѕСЂРёСЏ Р‘СѓРЅСЏРµРІР°\"}\n",
      "]\n",
      "[{'password': 's17302005', 'login': 'boscatov', 'name': 'РњР°РјРѕРЅС‚РѕРІ РђР»РµРєСЃР°РЅРґСЂ'}, {'password': '1234567', 'login': 'vicha', 'name': 'Р’РёРєС‚РѕСЂРёСЏ Р‘СѓРЅСЏРµРІР°'}, {'password': 'qweqwe', 'login': 'qweqwe', 'name': 'qweqwe'}]\n"
     ]
    }
   ],
   "source": [
    "correct_reg()"
   ]
  },
  {
   "cell_type": "code",
   "execution_count": null,
   "metadata": {
    "collapsed": true
   },
   "outputs": [],
   "source": []
  }
 ],
 "metadata": {
  "kernelspec": {
   "display_name": "Python 3",
   "language": "python",
   "name": "python3"
  },
  "language_info": {
   "codemirror_mode": {
    "name": "ipython",
    "version": 3
   },
   "file_extension": ".py",
   "mimetype": "text/x-python",
   "name": "python",
   "nbconvert_exporter": "python",
   "pygments_lexer": "ipython3",
   "version": "3.5.2"
  }
 },
 "nbformat": 4,
 "nbformat_minor": 2
}
